{
  "nbformat": 4,
  "nbformat_minor": 0,
  "metadata": {
    "colab": {
      "name": "Predicting with LSTM",
      "provenance": [],
      "collapsed_sections": [],
      "toc_visible": true
    },
    "kernelspec": {
      "display_name": "Python 3",
      "name": "python3"
    },
    "accelerator": "GPU"
  },
  "cells": [
    {
      "cell_type": "code",
      "metadata": {
        "id": "mKenizGfsJZy",
        "colab": {
          "base_uri": "https://localhost:8080/"
        },
        "outputId": "fb14e9c4-a9eb-447e-cd7b-de9691de1892"
      },
      "source": [
        "from google.colab import drive\n",
        "drive.mount('/content/drive')\n",
        "root_folder = \"/content/drive/My Drive/CS 182/CS182-Spring2020-NLP-Project/\""
      ],
      "execution_count": null,
      "outputs": [
        {
          "output_type": "stream",
          "text": [
            "Mounted at /content/drive\n"
          ],
          "name": "stdout"
        }
      ]
    },
    {
      "cell_type": "code",
      "metadata": {
        "id": "e4vhu3YusJz1",
        "colab": {
          "base_uri": "https://localhost:8080/"
        },
        "outputId": "dc374bad-95c7-4613-b433-1d941320745e"
      },
      "source": [
        "import os\n",
        "import sys\n",
        "sys.path.append(root_folder)\n",
        "from collections import Counter\n",
        "import torch as th\n",
        "from torch import nn\n",
        "import torch.nn.functional as F\n",
        "import torch.optim as optim\n",
        "\n",
        "import numpy as np\n",
        "import json\n",
        "import word_embed as embed"
      ],
      "execution_count": null,
      "outputs": [
        {
          "output_type": "stream",
          "text": [
            "Loading word2vec model\n",
            "Finished loading word2vec model\n"
          ],
          "name": "stdout"
        }
      ]
    },
    {
      "cell_type": "code",
      "metadata": {
        "id": "_db_eDX2sSEi",
        "colab": {
          "base_uri": "https://localhost:8080/"
        },
        "outputId": "630218ec-0ecb-4d3e-ec18-1ca3f7df3e89"
      },
      "source": [
        "hidden_size = 256\n",
        "num_layers = 2\n",
        "batch_size = 32\n",
        "epochs = 5\n",
        "lr = 5e-3\n",
        "input_size = 300\n",
        "output_size = 11\n",
        "dropout = 0.3\n",
        "\n",
        "device = th.device(\"cuda\" if th.cuda.is_available() else \"cpu\")\n",
        "print(device)\n",
        "\n",
        "class LSTM(nn.Module):\n",
        "    def __init__(self):\n",
        "        super(LSTM, self).__init__()\n",
        "        self.lstm = nn.LSTM(input_size, hidden_size, num_layers, batch_first=True, dropout=dropout, bidirectional=True)\n",
        "        self.linear = nn.Linear(2 * hidden_size, output_size)\n",
        "\n",
        "    def forward(self, x):\n",
        "        _, (hidden, _) = self.lstm(x)\n",
        "        hidden = th.cat((hidden[-2, :, :], hidden[-1, :, :]), dim = 1)\n",
        "        out = self.linear(hidden)\n",
        "        return out\n",
        "\n",
        "model = LSTM()\n",
        "model.load_state_dict(th.load(root_folder + \"model64.pt\"))\n",
        "model.eval()\n"
      ],
      "execution_count": null,
      "outputs": [
        {
          "output_type": "stream",
          "text": [
            "cuda\n"
          ],
          "name": "stdout"
        },
        {
          "output_type": "execute_result",
          "data": {
            "text/plain": [
              "LSTM(\n",
              "  (lstm): LSTM(300, 256, num_layers=2, batch_first=True, dropout=0.3, bidirectional=True)\n",
              "  (linear): Linear(in_features=512, out_features=11, bias=True)\n",
              ")"
            ]
          },
          "metadata": {
            "tags": []
          },
          "execution_count": 5
        }
      ]
    },
    {
      "cell_type": "code",
      "metadata": {
        "id": "FtXb1pPSs1Vq",
        "colab": {
          "base_uri": "https://localhost:8080/"
        },
        "outputId": "d696388c-5ced-4acb-a31f-1f9a12f56446"
      },
      "source": [
        "review = \"the service is amazing\"\n",
        "tensor = th.FloatTensor(embed.embed_review(review)).unsqueeze(0)\n",
        "output = model(tensor)\n",
        "prediction = th.argmax(output)\n",
        "print(int(prediction) / 2, \"stars\")"
      ],
      "execution_count": null,
      "outputs": [
        {
          "output_type": "stream",
          "text": [
            "5.0 stars\n"
          ],
          "name": "stdout"
        }
      ]
    },
    {
      "cell_type": "code",
      "metadata": {
        "id": "-smh_EFNvLS6"
      },
      "source": [
        ""
      ],
      "execution_count": null,
      "outputs": []
    }
  ]
}